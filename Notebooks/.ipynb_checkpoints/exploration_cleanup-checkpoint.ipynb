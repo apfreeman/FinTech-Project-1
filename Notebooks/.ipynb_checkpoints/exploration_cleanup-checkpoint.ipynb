{
 "cells": [
  {
   "cell_type": "markdown",
   "metadata": {},
   "source": [
    "# European Soccer Database Analysis - Exploratoion and CleanUp\n",
    "\n",
    "In this project, we will perform fundamental analysis on the Eurpeann Soccer Leagues. \n",
    "\n",
    "This Noteboook contains the data exploration and cleanup"
   ]
  },
  {
   "cell_type": "code",
   "execution_count": null,
   "metadata": {},
   "outputs": [],
   "source": [
    "# imports\n",
    "import panel as pn\n",
    "pn.extension('plotly')\n",
    "import plotly.express as px\n",
    "import pandas as pd\n",
    "import hvplot.pandas\n",
    "import matplotlib.pyplot as plt\n",
    "import calendar\n",
    "import os\n",
    "import requests\n",
    "import json\n",
    "from pathlib import Path\n",
    "from dotenv import load_dotenv"
   ]
  },
  {
   "cell_type": "markdown",
   "metadata": {},
   "source": [
    "## Create API Connection to re-use for all requests "
   ]
  },
  {
   "cell_type": "code",
   "execution_count": null,
   "metadata": {},
   "outputs": [],
   "source": [
    "# Api Credentials for request authorisation\n",
    "api_connection = {\n",
    "    'x-rapidapi-host': \"api-football-v1.p.rapidapi.com\",\n",
    "    'x-rapidapi-key': \"c52f0a3d4fmshc1fa22df80c04e0p190947jsn6657d9612f32\"\n",
    "    }"
   ]
  },
  {
   "cell_type": "markdown",
   "metadata": {},
   "source": [
    "### Create Dataframe from Country API Data"
   ]
  },
  {
   "cell_type": "code",
   "execution_count": null,
   "metadata": {},
   "outputs": [],
   "source": [
    "# Football API URL for countries \n",
    "country_url = \"https://api-football-v1.p.rapidapi.com/v3/countries\"\n",
    "\n",
    "# Get data from API for Countries\n",
    "country_response = requests.request(\"GET\", country_url, headers=api_connection)"
   ]
  },
  {
   "cell_type": "code",
   "execution_count": null,
   "metadata": {},
   "outputs": [],
   "source": [
    "# Examine Response\n",
    "print(country_response.text)"
   ]
  },
  {
   "cell_type": "code",
   "execution_count": null,
   "metadata": {},
   "outputs": [],
   "source": [
    "# Check keys of response\n",
    "country_response.json().keys()"
   ]
  },
  {
   "cell_type": "code",
   "execution_count": null,
   "metadata": {},
   "outputs": [],
   "source": [
    "# Check keys at next level of response for response\n",
    "country_response.json()['response']"
   ]
  },
  {
   "cell_type": "code",
   "execution_count": null,
   "metadata": {},
   "outputs": [],
   "source": [
    "# Create dictionary of results for 'leagues' key\n",
    "country_dict = country_response.json()['response']\n",
    "\n",
    "# Visualize df for all English Premier league seasons available\n",
    "country_df = pd.DataFrame.from_dict(country_dict)\n",
    "country_df.head()"
   ]
  },
  {
   "cell_type": "markdown",
   "metadata": {},
   "source": [
    "### Create Dataframe from English Premier Leauge Seasons API Data"
   ]
  },
  {
   "cell_type": "code",
   "execution_count": null,
   "metadata": {},
   "outputs": [],
   "source": [
    "# Football API URL for epl \n",
    "epl_url = \"https://api-football-v1.p.rapidapi.com/v2/leagues/seasonsAvailable/524\"\n",
    "\n",
    "# Get data from API for Countries\n",
    "epl_response = requests.request(\"GET\", epl_url, headers=api_connection)"
   ]
  },
  {
   "cell_type": "code",
   "execution_count": null,
   "metadata": {},
   "outputs": [],
   "source": [
    "# Check keys of response\n",
    "epl_response.json().keys()"
   ]
  },
  {
   "cell_type": "code",
   "execution_count": null,
   "metadata": {},
   "outputs": [],
   "source": [
    "# Check keys at next level of response\n",
    "epl_response.json()['api'].keys()"
   ]
  },
  {
   "cell_type": "code",
   "execution_count": null,
   "metadata": {},
   "outputs": [],
   "source": [
    "# Create dictionary of results for 'leagues' key\n",
    "leagues_dict = epl_response.json()['api']['leagues']\n",
    "\n",
    "# Visualize df for all English Premier league seasons available\n",
    "leagues_df = pd.DataFrame.from_dict(leagues_dict)\n",
    "leagues_df.head()"
   ]
  },
  {
   "cell_type": "markdown",
   "metadata": {},
   "source": [
    "### Create Dataframe from Top Scorers API Data"
   ]
  },
  {
   "cell_type": "code",
   "execution_count": null,
   "metadata": {},
   "outputs": [],
   "source": [
    "# Football API URL for top scorers\n",
    "top_scorers_url = \"https://api-football-v1.p.rapidapi.com/v3/players/topscorers\""
   ]
  },
  {
   "cell_type": "code",
   "execution_count": null,
   "metadata": {},
   "outputs": [],
   "source": [
    "# Query String\n",
    "top_scorers_querystring = {\"league\":\"39\",\"season\":\"2020\"}\n",
    "\n",
    "# Get data from API for Countries\n",
    "top_scorers_response = requests.request(\"GET\", top_scorers_url, headers=api_connection, params=top_scorers_querystring)"
   ]
  },
  {
   "cell_type": "code",
   "execution_count": null,
   "metadata": {},
   "outputs": [],
   "source": [
    "# Check keys of response\n",
    "top_scorers_response.json().keys()"
   ]
  },
  {
   "cell_type": "code",
   "execution_count": null,
   "metadata": {},
   "outputs": [],
   "source": [
    "# Check keys at next level of response for response\n",
    "top_scorers_response.json()['response']"
   ]
  },
  {
   "cell_type": "code",
   "execution_count": null,
   "metadata": {},
   "outputs": [],
   "source": [
    "# Create dictionary of results for 'leagues' key\n",
    "top_scorers_dict = top_scorers_response.json()"
   ]
  },
  {
   "cell_type": "code",
   "execution_count": null,
   "metadata": {},
   "outputs": [],
   "source": [
    "top_scorers_dict"
   ]
  },
  {
   "cell_type": "code",
   "execution_count": null,
   "metadata": {},
   "outputs": [],
   "source": [
    "# Visualize df for all English Premier league seasons available\n",
    "top_scorers_df = pd.DataFrame(top_scorers_dict['response']) \n",
    "top_scorers_df.head()"
   ]
  },
  {
   "cell_type": "code",
   "execution_count": null,
   "metadata": {},
   "outputs": [],
   "source": []
  }
 ],
 "metadata": {
  "file_extension": ".py",
  "kernelspec": {
   "display_name": "Python [conda env:pyvizenv] *",
   "language": "python",
   "name": "conda-env-pyvizenv-py"
  },
  "language_info": {
   "codemirror_mode": {
    "name": "ipython",
    "version": 3
   },
   "file_extension": ".py",
   "mimetype": "text/x-python",
   "name": "python",
   "nbconvert_exporter": "python",
   "pygments_lexer": "ipython3",
   "version": "3.7.11"
  },
  "mimetype": "text/x-python",
  "name": "python",
  "npconvert_exporter": "python",
  "pygments_lexer": "ipython3",
  "version": 3
 },
 "nbformat": 4,
 "nbformat_minor": 4
}
